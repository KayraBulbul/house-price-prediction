{
 "cells": [
  {
   "cell_type": "code",
   "execution_count": 2,
   "id": "9c1f9a1e",
   "metadata": {},
   "outputs": [],
   "source": [
    "import pandas as pd\n",
    "\n",
    "df = pd.read_csv(\"../data/melb_data.csv\")\n",
    "\n",
    "df = df.drop(columns=[\"Address\", \"SellerG\", \"Date\", \"Postcode\", \"BuildingArea\", \"CouncilArea\", \"YearBuilt\", \"Lattitude\", \"Longtitude\", \"Regionname\", \"Propertycount\", \"Unnamed: 0\"])\n",
    "df.isnull().sum()\n",
    "df = df.dropna()\n",
    "\n",
    "df = pd.get_dummies(df, drop_first=True)"
   ]
  }
 ],
 "metadata": {
  "kernelspec": {
   "display_name": "venv",
   "language": "python",
   "name": "python3"
  },
  "language_info": {
   "codemirror_mode": {
    "name": "ipython",
    "version": 3
   },
   "file_extension": ".py",
   "mimetype": "text/x-python",
   "name": "python",
   "nbconvert_exporter": "python",
   "pygments_lexer": "ipython3",
   "version": "3.13.5"
  }
 },
 "nbformat": 4,
 "nbformat_minor": 5
}
