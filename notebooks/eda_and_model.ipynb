{
 "cells": [
  {
   "cell_type": "code",
   "execution_count": null,
   "id": "9c1f9a1e",
   "metadata": {},
   "outputs": [],
   "source": [
    "import pandas as pd\n",
    "\n",
    "df = pd.read_csv(\"../data/melb_data.csv\")\n",
    "\n",
    "df = df.drop(columns=[\"Address\", \"SellerG\", \"Date\", \"Postcode\", \"BuildingArea\", \"CouncilArea\", \"YearBuilt\", \"Lattitude\", \"Longtitude\", \"Regionname\", \"Propertycount\", \"Unnamed: 0\"])\n",
    "df.isnull().sum()\n",
    "df = df.dropna()\n",
    "\n",
    "df = pd.get_dummies(df, drop_first=True)"
   ]
  },
  {
   "cell_type": "code",
   "execution_count": null,
   "id": "e76f555c",
   "metadata": {},
   "outputs": [],
   "source": [
    "import seaborn as sns\n",
    "import matplotlib.pyplot as plt\n",
    "\n",
    "sns.histplot(df[\"Price\"], kde=True)\n",
    "plt.title(\"Price Distribution\")\n",
    "plt.show()\n",
    "\n",
    "sns.histplot(df[\"Distance\"], kde=True)\n",
    "plt.title(\"Distance Distribution\")\n",
    "plt.show()\n",
    "\n",
    "sns.histplot(df[\"Rooms\"], kde=True)\n",
    "plt.title(\"Rooms Distribution\") \n",
    "plt.show()\n",
    "\n",
    "sns.histplot(df[\"Car\"], kde=True)\n",
    "plt.title(\"Cars Distribution\")  \n",
    "plt.show()\n",
    "\n",
    "sns.histplot(df[\"Landsize\"], kde=True)\n",
    "plt.title(\"Landsize Distribution\")\n",
    "plt.show()\n"
   ]
  },
  {
   "cell_type": "code",
   "execution_count": null,
   "id": "fd82af9d",
   "metadata": {},
   "outputs": [],
   "source": [
    "sns.scatterplot(x=\"Rooms\", y=\"Price\", data=df)\n",
    "plt.title(\"Price vs Rooms\")\n",
    "plt.show()\n",
    "\n",
    "sns.scatterplot(x=\"Distance\", y=\"Price\", data=df)  \n",
    "plt.title(\"Price vs Distance\")\n",
    "plt.show()\n",
    "\n",
    "sns.scatterplot(x=\"Landsize\", y=\"Price\", data=df)\n",
    "plt.title(\"Price vs Land Size\")\n",
    "plt.show()"
   ]
  },
  {
   "cell_type": "code",
   "execution_count": null,
   "id": "6a2dc23c",
   "metadata": {},
   "outputs": [],
   "source": [
    "corr = df.corr(numeric_only=True)['Price'].sort_values(ascending=False)\n",
    "\n",
    "top_corr = corr[1:11]\n",
    "plt.figure(figsize=(10, 6))\n",
    "sns.barplot(x=top_corr.values, y=top_corr.index)\n",
    "plt.title(\"Top 10 Features Correlated with Price\")\n",
    "plt.xlabel(\"Correlation Coefficient\")\n",
    "plt.ylabel(\"Features\")\n",
    "plt.show()\n",
    "\n",
    "filtered_cols = [col for col in df.columns if col.startswith('Suburb_') == False]\n",
    "plt.figure(figsize=(12, 8))\n",
    "sns.heatmap(df[filtered_cols].corr(), annot=True, cmap='coolwarm')\n",
    "plt.title(\"Heatmap (excluding Suburb dummies)\")\n",
    "plt.show()"
   ]
  },
  {
   "cell_type": "code",
   "execution_count": null,
   "id": "f84af4f5",
   "metadata": {},
   "outputs": [],
   "source": [
    "X = df.drop(columns=[\"Price\"])\n",
    "y = df[\"Price\"]\n",
    "\n",
    "from sklearn.model_selection import train_test_split\n",
    "\n",
    "X_train, X_test, y_train, y_test = train_test_split(X, y, test_size=0.2, random_state=42)\n",
    "\n",
    "from sklearn.linear_model import LinearRegression\n",
    "\n",
    "model = LinearRegression()\n",
    "model.fit(X_train, y_train)\n",
    "\n",
    "from sklearn.metrics import mean_absolute_error, mean_squared_error, r2_score\n",
    "import numpy as np\n",
    "\n",
    "y_pred = model.predict(X_test)\n",
    "\n",
    "print(\"MAE:\", mean_absolute_error(y_test, y_pred))\n",
    "print(\"RMSE:\", mean_squared_error(y_test, y_pred))\n",
    "print(\"R^2:\", r2_score(y_test, y_pred))\n",
    "\n",
    "import matplotlib.pyplot as plt\n",
    "plt.scatter(y_test, y_pred, alpha=0.3)\n",
    "plt.xlabel(\"Actual Price\")\n",
    "plt.ylabel(\"Predicted Price\")\n",
    "plt.title(\"Actual vs Predicted Price\")\n",
    "plt.show()"
   ]
  },
  {
   "cell_type": "code",
   "execution_count": null,
   "id": "822c5456",
   "metadata": {},
   "outputs": [],
   "source": [
    "from sklearn.ensemble import RandomForestRegressor\n",
    "\n",
    "rf = RandomForestRegressor(n_estimators=100, random_state=42)\n",
    "rf.fit(X_train, y_train)\n",
    "\n",
    "y_pred_rf = rf.predict(X_test)\n",
    "\n",
    "print(\"MAE:\", mean_absolute_error(y_test, y_pred_rf))\n",
    "print(\"RMSE:\", np.sqrt(mean_squared_error(y_test, y_pred_rf)))\n",
    "print(\"R²:\", r2_score(y_test, y_pred_rf))\n",
    "\n",
    "\n",
    "plt.scatter(y_test, y_pred_rf, alpha=0.3)\n",
    "plt.xlabel(\"Actual Price\")\n",
    "plt.ylabel(\"Predicted Price\")\n",
    "plt.title(\"Random Forest: Actual vs Predicted Price\")\n",
    "plt.show()\n",
    "\n",
    "importances = pd.Series(rf.feature_importances_, index=X.columns)\n",
    "importances.sort_values(ascending=False).head(10).plot(kind='barh')\n",
    "plt.title(\"Top 10 Important Features\")\n",
    "plt.xlabel(\"Feature Importance\")\n",
    "plt.show()"
   ]
  }
 ],
 "metadata": {
  "kernelspec": {
   "display_name": "venv",
   "language": "python",
   "name": "python3"
  },
  "language_info": {
   "codemirror_mode": {
    "name": "ipython",
    "version": 3
   },
   "file_extension": ".py",
   "mimetype": "text/x-python",
   "name": "python",
   "nbconvert_exporter": "python",
   "pygments_lexer": "ipython3",
   "version": "3.13.5"
  }
 },
 "nbformat": 4,
 "nbformat_minor": 5
}
